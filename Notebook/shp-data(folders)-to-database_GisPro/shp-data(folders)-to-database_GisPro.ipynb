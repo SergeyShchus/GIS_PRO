{
 "cells": [
  {
   "cell_type": "markdown",
   "metadata": {},
   "source": [
    "# GIS PRO (Python) - створення бази та наповнення даними з каталогів"
   ]
  },
  {
   "cell_type": "markdown",
   "metadata": {},
   "source": [
    "[Data - naturalearth](http://naciscdn.org/naturalearth/packages/Natural_Earth_quick_start.zip)"
   ]
  },
  {
   "cell_type": "markdown",
   "metadata": {},
   "source": [
    "Створіть новий проект і блокнот Python. \n",
    "У блокноті запутіть код, вказавши вірний шлях до каталогу з даними"
   ]
  },
  {
   "cell_type": "code",
   "execution_count": null,
   "metadata": {},
   "outputs": [],
   "source": [
    "import os\n",
    "\n",
    "workspace = r'..\\\\Natural_Earth_quick_start'\n",
    "\n",
    "folders = [x[0] for x in os.walk(workspace)]\n",
    "for folder in folders:\n",
    "    print (\"Checking\" + folder + \"for shapefiles.\")\n",
    "    #set workspase\n",
    "    arcpy.env.workspace = folder\n",
    "    #list shapefiles\n",
    "    fcs = arcpy.ListFeatureClasses(\"*.shp\")\n",
    "    #check whether any shp are present\n",
    "    if len(fcs) > 0:\n",
    "        print(\"Shapefiles found! Creating a file gdb..\")\n",
    "        gdb_name = \"base \" + folder.split(\"\\\\\")[-1] + \".gdb\"\n",
    "        arcpy.CreateFileGDB_management(folder, gdb_name)\n",
    "        #for each shapefile, convert to file gdb format\n",
    "        for fc in fcs:\n",
    "            print(\"Converting \" + fc + \" to file gdb. format.\") \n",
    "            output_path = os.path.join(folder, gdb_name)\n",
    "            out_name = arcpy.Describe(fc).baseName    \n",
    "            arcpy.FeatureClassToFeatureClass_conversion (fc, output_path, out_name)"
   ]
  },
  {
   "cell_type": "code",
   "execution_count": null,
   "metadata": {},
   "outputs": [],
   "source": []
  }
 ],
 "metadata": {
  "kernelspec": {
   "display_name": "ArcGISPro",
   "language": "Python",
   "name": "python3"
  },
  "language_info": {
   "file_extension": ".py",
   "name": "python",
   "version": "3"
  }
 },
 "nbformat": 4,
 "nbformat_minor": 2
}
