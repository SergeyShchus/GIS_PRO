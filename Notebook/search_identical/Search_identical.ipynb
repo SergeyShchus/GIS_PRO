{
 "cells": [
  {
   "cell_type": "code",
   "execution_count": 1,
   "metadata": {},
   "outputs": [],
   "source": [
    "#import modules\n",
    "\n",
    "import arcgis\n",
    "import pandas as pd\n",
    "from collections import Counter\n",
    "\n",
    "#create dataframe\n",
    "sedf = pd.DataFrame.spatial.from_featureclass(\"ne_10m_lakes\")"
   ]
  },
  {
   "cell_type": "code",
   "execution_count": 2,
   "metadata": {},
   "outputs": [
    {
     "name": "stdout",
     "output_type": "stream",
     "text": [
      "Identical rows based on a single column are:\n",
      "       FID  ...                                              SHAPE\n",
      "25      25  ...  {\"rings\": [[[-155.96073373534216, 57.911545965...\n",
      "38      38  ...  {\"rings\": [[[-99.72187851858244, 62.8833560724...\n",
      "40      40  ...  {\"rings\": [[[-90.42232701423875, 30.3096104923...\n",
      "43      43  ...  {\"rings\": [[[-76.54629642537898, 56.1382964633...\n",
      "44      44  ...  {\"rings\": [[[-156.5783096740644, 57.7982157762...\n",
      "...    ...  ...                                                ...\n",
      "1275  1275  ...  {\"rings\": [[[130.9227178335302, -29.3488727893...\n",
      "1277  1277  ...  {\"rings\": [[[133.40509051763155, -17.800673717...\n",
      "1305  1305  ...  {\"rings\": [[[35.51106203459642, 31.19947324863...\n",
      "1330  1330  ...  {\"rings\": [[[167.88828759356647, -44.940826857...\n",
      "1349  1349  ...  {\"rings\": [[[59.80924411405536, 46.01734005861...\n",
      "\n",
      "[626 rows x 43 columns]\n"
     ]
    }
   ],
   "source": [
    "#find identical rows\n",
    "\n",
    "duplicateRowsDF = sedf[sedf.duplicated(['name'])]\n",
    "\n",
    "#output lists identical entry\n",
    "\n",
    "print(\"Identical rows based on a single column are:\", duplicateRowsDF, sep = '\\n')"
   ]
  },
  {
   "cell_type": "code",
   "execution_count": null,
   "metadata": {},
   "outputs": [],
   "source": []
  }
 ],
 "metadata": {
  "kernelspec": {
   "display_name": "ArcGISPro",
   "language": "Python",
   "name": "python3"
  },
  "language_info": {
   "file_extension": ".py",
   "name": "python",
   "version": "3"
  }
 },
 "nbformat": 4,
 "nbformat_minor": 2
}
